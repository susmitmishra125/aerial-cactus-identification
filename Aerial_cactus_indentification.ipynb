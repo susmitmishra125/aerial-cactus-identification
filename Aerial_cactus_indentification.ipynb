{
  "nbformat": 4,
  "nbformat_minor": 0,
  "metadata": {
    "accelerator": "GPU",
    "colab": {
      "name": "Aerial_cactus_indentification.ipynb",
      "provenance": [],
      "collapsed_sections": [],
      "authorship_tag": "ABX9TyP5nc67xiTM5hwM0996JZK2",
      "include_colab_link": true
    },
    "kernelspec": {
      "display_name": "Python 3",
      "name": "python3"
    }
  },
  "cells": [
    {
      "cell_type": "markdown",
      "metadata": {
        "id": "view-in-github",
        "colab_type": "text"
      },
      "source": [
        "<a href=\"https://colab.research.google.com/github/susmitmishra125/aerial-cactus-identification/blob/main/Aerial_cactus_indentification.ipynb\" target=\"_parent\"><img src=\"https://colab.research.google.com/assets/colab-badge.svg\" alt=\"Open In Colab\"/></a>"
      ]
    },
    {
      "cell_type": "code",
      "metadata": {
        "id": "sikqTP9UMM06"
      },
      "source": [
        " from google.colab import files"
      ],
      "execution_count": 1,
      "outputs": []
    },
    {
      "cell_type": "code",
      "metadata": {
        "id": "cuYT74G-SC2X"
      },
      "source": [
        "files.upload()"
      ],
      "execution_count": null,
      "outputs": []
    },
    {
      "cell_type": "code",
      "metadata": {
        "id": "H3xJ_kzmSmUT"
      },
      "source": [
        "!mkdir ~/.kaggle"
      ],
      "execution_count": 3,
      "outputs": []
    },
    {
      "cell_type": "code",
      "metadata": {
        "id": "XRaPVdZu8yiP"
      },
      "source": [
        "! cp kaggle.json ~/.kaggle/"
      ],
      "execution_count": 4,
      "outputs": []
    },
    {
      "cell_type": "code",
      "metadata": {
        "id": "LLikr2AjoPoE"
      },
      "source": [
        " ! chmod 600 ~/.kaggle/kaggle.json"
      ],
      "execution_count": 5,
      "outputs": []
    },
    {
      "cell_type": "code",
      "metadata": {
        "id": "xdCC0lL6pXB3"
      },
      "source": [
        "!kaggle datasets list"
      ],
      "execution_count": null,
      "outputs": []
    },
    {
      "cell_type": "code",
      "metadata": {
        "colab": {
          "base_uri": "https://localhost:8080/"
        },
        "id": "aXa_Z5EwDJub",
        "outputId": "b7eb63e9-b7f5-4540-c9b1-9701219e740c"
      },
      "source": [
        "!mkdir -p data\r\n",
        "!kaggle competitions download -c aerial-cactus-identification -p data"
      ],
      "execution_count": 7,
      "outputs": [
        {
          "output_type": "stream",
          "text": [
            "Warning: Looks like you're using an outdated API Version, please consider updating (server 1.5.10 / client 1.5.4)\n",
            "Downloading test.zip to data\n",
            "  0% 0.00/4.20M [00:00<?, ?B/s]\n",
            "100% 4.20M/4.20M [00:00<00:00, 124MB/s]\n",
            "Downloading train.zip to data\n",
            " 88% 17.0M/19.2M [00:00<00:00, 174MB/s]\n",
            "100% 19.2M/19.2M [00:00<00:00, 177MB/s]\n",
            "Downloading train.csv to data\n",
            "  0% 0.00/667k [00:00<?, ?B/s]\n",
            "100% 667k/667k [00:00<00:00, 92.0MB/s]\n",
            "Downloading sample_submission.csv to data\n",
            "  0% 0.00/160k [00:00<?, ?B/s]\n",
            "100% 160k/160k [00:00<00:00, 169MB/s]\n"
          ],
          "name": "stdout"
        }
      ]
    },
    {
      "cell_type": "code",
      "metadata": {
        "id": "JKqjq3zrDKkc"
      },
      "source": [
        "!unzip data/train.zip -d data\r\n",
        "!unzip data/test.zip -d data"
      ],
      "execution_count": null,
      "outputs": []
    },
    {
      "cell_type": "code",
      "metadata": {
        "id": "T62qbuRepyGQ"
      },
      "source": [
        "import tensorflow as tf\r\n",
        "import pandas as pd\r\n",
        "import os\r\n",
        "import matplotlib.pyplot as plt\r\n",
        "from sklearn.model_selection import train_test_split\r\n",
        "from IPython.display import Image, display"
      ],
      "execution_count": 11,
      "outputs": []
    },
    {
      "cell_type": "code",
      "metadata": {
        "colab": {
          "base_uri": "https://localhost:8080/"
        },
        "id": "_3OKV3kop2cO",
        "outputId": "4cc010d0-995e-4056-9ce6-d1a2dd818189"
      },
      "source": [
        "train_csv = pd.read_csv('data/train.csv')\r\n",
        "print(train_csv.describe())\r\n",
        "print(train_csv.head())"
      ],
      "execution_count": 12,
      "outputs": [
        {
          "output_type": "stream",
          "text": [
            "         has_cactus\n",
            "count  17500.000000\n",
            "mean       0.750629\n",
            "std        0.432662\n",
            "min        0.000000\n",
            "25%        1.000000\n",
            "50%        1.000000\n",
            "75%        1.000000\n",
            "max        1.000000\n",
            "                                     id  has_cactus\n",
            "0  0004be2cfeaba1c0361d39e2b000257b.jpg           1\n",
            "1  000c8a36845c0208e833c79c1bffedd1.jpg           1\n",
            "2  000d1e9a533f62e55c289303b072733d.jpg           1\n",
            "3  0011485b40695e9138e92d0b3fb55128.jpg           1\n",
            "4  0014d7a11e90b62848904c1418fc8cf2.jpg           1\n"
          ],
          "name": "stdout"
        }
      ]
    },
    {
      "cell_type": "code",
      "metadata": {
        "id": "hP__YackqQ_w"
      },
      "source": [
        "filenames = ['data/train/' + fname for fname in train_csv['id'].tolist()]\r\n",
        "labels = train_csv['has_cactus'].tolist()\r\n",
        "\r\n",
        "train_filenames, val_filenames, train_labels, val_labels = train_test_split(filenames,\r\n",
        "                                                                            labels,\r\n",
        "                                                                            train_size=0.9,\r\n",
        "                                                                            random_state=420)\r\n",
        "\r\n",
        "num_train = len(train_filenames)\r\n",
        "num_val = len(val_filenames)"
      ],
      "execution_count": 13,
      "outputs": []
    },
    {
      "cell_type": "code",
      "metadata": {
        "id": "PRTScsukqaxs"
      },
      "source": [
        "IMAGE_SIZE = 96\r\n",
        "\r\n",
        "\r\n",
        "def _parse_fn(filename, label):\r\n",
        "  image_string = tf.io.read_file(filename)\r\n",
        "  image_decoded = tf.image.decode_jpeg(image_string)\r\n",
        "  image_normalized = (tf.cast(image_decoded, tf.float32)/127.5) - 1\r\n",
        "  image_resized = tf.image.resize(image_normalized, (IMAGE_SIZE, IMAGE_SIZE))\r\n",
        "  return image_resized, label"
      ],
      "execution_count": 14,
      "outputs": []
    },
    {
      "cell_type": "code",
      "metadata": {
        "id": "L9dFNIHPqc3T"
      },
      "source": [
        "BATCH_SIZE = 32\r\n",
        "\r\n",
        "train_data = tf.data.Dataset.from_tensor_slices((tf.constant(train_filenames), tf.constant(train_labels))).map(_parse_fn).shuffle(buffer_size=10000).batch(BATCH_SIZE)\r\n",
        "\r\n",
        "\r\n",
        "val_data = tf.data.Dataset.from_tensor_slices((tf.constant(val_filenames), tf.constant(val_labels))).map(_parse_fn).batch(BATCH_SIZE)"
      ],
      "execution_count": 15,
      "outputs": []
    },
    {
      "cell_type": "code",
      "metadata": {
        "colab": {
          "base_uri": "https://localhost:8080/"
        },
        "id": "xhQM63dJqg9G",
        "outputId": "340749c7-b309-4582-c167-a1c90dca88eb"
      },
      "source": [
        "# Base model with MobileNetV2\r\n",
        "IMG_SHAPE = (IMAGE_SIZE, IMAGE_SIZE, 3)\r\n",
        "\r\n",
        "base_model = tf.keras.applications.MobileNetV2(input_shape=IMG_SHAPE,\r\n",
        "                                               include_top=False, \r\n",
        "                                               weights='imagenet')\r\n",
        "base_model.trainable = False"
      ],
      "execution_count": 16,
      "outputs": [
        {
          "output_type": "stream",
          "text": [
            "Downloading data from https://storage.googleapis.com/tensorflow/keras-applications/mobilenet_v2/mobilenet_v2_weights_tf_dim_ordering_tf_kernels_1.0_96_no_top.h5\n",
            "9412608/9406464 [==============================] - 0s 0us/step\n"
          ],
          "name": "stdout"
        }
      ]
    },
    {
      "cell_type": "code",
      "metadata": {
        "id": "BpZjcQeQqkDJ"
      },
      "source": [
        "maxpool_layer = tf.keras.layers.GlobalMaxPooling2D()\r\n",
        "prediction_layer = tf.keras.layers.Dense(1, activation='sigmoid')"
      ],
      "execution_count": 17,
      "outputs": []
    },
    {
      "cell_type": "code",
      "metadata": {
        "colab": {
          "base_uri": "https://localhost:8080/"
        },
        "id": "3unsyKpLqpWS",
        "outputId": "0a7210eb-5ccb-4bc3-b945-18032a684570"
      },
      "source": [
        "learning_rate = 0.001\r\n",
        "\r\n",
        "model = tf.keras.Sequential([\r\n",
        "    base_model,\r\n",
        "    maxpool_layer,\r\n",
        "    prediction_layer\r\n",
        "])\r\n",
        "\r\n",
        "model.compile(optimizer=tf.keras.optimizers.Adam(lr=learning_rate),\r\n",
        "             loss='binary_crossentropy',\r\n",
        "             metrics=['accuracy'])\r\n",
        "\r\n",
        "model.summary()"
      ],
      "execution_count": 18,
      "outputs": [
        {
          "output_type": "stream",
          "text": [
            "Model: \"sequential\"\n",
            "_________________________________________________________________\n",
            "Layer (type)                 Output Shape              Param #   \n",
            "=================================================================\n",
            "mobilenetv2_1.00_96 (Functio (None, 3, 3, 1280)        2257984   \n",
            "_________________________________________________________________\n",
            "global_max_pooling2d (Global (None, 1280)              0         \n",
            "_________________________________________________________________\n",
            "dense (Dense)                (None, 1)                 1281      \n",
            "=================================================================\n",
            "Total params: 2,259,265\n",
            "Trainable params: 1,281\n",
            "Non-trainable params: 2,257,984\n",
            "_________________________________________________________________\n"
          ],
          "name": "stdout"
        }
      ]
    },
    {
      "cell_type": "code",
      "metadata": {
        "id": "q5wzU8qzrtRH"
      },
      "source": [
        "num_epochs = 30\r\n",
        "steps_per_epoch = round(num_train)//BATCH_SIZE\r\n",
        "val_steps = 20"
      ],
      "execution_count": 19,
      "outputs": []
    },
    {
      "cell_type": "code",
      "metadata": {
        "colab": {
          "base_uri": "https://localhost:8080/"
        },
        "id": "gNJfrB8qqyrP",
        "outputId": "54f3fe9e-9f43-4762-e0d1-280eee941af2"
      },
      "source": [
        "history = model.fit(train_data.repeat(),\r\n",
        "                    epochs=num_epochs,\r\n",
        "                    steps_per_epoch = steps_per_epoch,\r\n",
        "                    validation_data=val_data.repeat(), \r\n",
        "                    validation_steps=val_steps)"
      ],
      "execution_count": 20,
      "outputs": [
        {
          "output_type": "stream",
          "text": [
            "Epoch 1/30\n",
            "492/492 [==============================] - 22s 20ms/step - loss: 0.1765 - accuracy: 0.9268 - val_loss: 0.0490 - val_accuracy: 0.9828\n",
            "Epoch 2/30\n",
            "492/492 [==============================] - 13s 26ms/step - loss: 0.0354 - accuracy: 0.9877 - val_loss: 0.0429 - val_accuracy: 0.9812\n",
            "Epoch 3/30\n",
            "492/492 [==============================] - 13s 26ms/step - loss: 0.0295 - accuracy: 0.9895 - val_loss: 0.0396 - val_accuracy: 0.9828\n",
            "Epoch 4/30\n",
            "492/492 [==============================] - 12s 25ms/step - loss: 0.0257 - accuracy: 0.9910 - val_loss: 0.0366 - val_accuracy: 0.9844\n",
            "Epoch 5/30\n",
            "492/492 [==============================] - 13s 26ms/step - loss: 0.0205 - accuracy: 0.9933 - val_loss: 0.0408 - val_accuracy: 0.9859\n",
            "Epoch 6/30\n",
            "492/492 [==============================] - 12s 25ms/step - loss: 0.0212 - accuracy: 0.9932 - val_loss: 0.0479 - val_accuracy: 0.9797\n",
            "Epoch 7/30\n",
            "492/492 [==============================] - 12s 25ms/step - loss: 0.0148 - accuracy: 0.9954 - val_loss: 0.0379 - val_accuracy: 0.9828\n",
            "Epoch 8/30\n",
            "492/492 [==============================] - 12s 25ms/step - loss: 0.0172 - accuracy: 0.9943 - val_loss: 0.0412 - val_accuracy: 0.9828\n",
            "Epoch 9/30\n",
            "492/492 [==============================] - 13s 26ms/step - loss: 0.0150 - accuracy: 0.9947 - val_loss: 0.0403 - val_accuracy: 0.9797\n",
            "Epoch 10/30\n",
            "492/492 [==============================] - 12s 25ms/step - loss: 0.0112 - accuracy: 0.9962 - val_loss: 0.0475 - val_accuracy: 0.9828\n",
            "Epoch 11/30\n",
            "492/492 [==============================] - 12s 24ms/step - loss: 0.0124 - accuracy: 0.9954 - val_loss: 0.0587 - val_accuracy: 0.9797\n",
            "Epoch 12/30\n",
            "492/492 [==============================] - 12s 24ms/step - loss: 0.0109 - accuracy: 0.9965 - val_loss: 0.0441 - val_accuracy: 0.9828\n",
            "Epoch 13/30\n",
            "492/492 [==============================] - 12s 24ms/step - loss: 0.0088 - accuracy: 0.9975 - val_loss: 0.0402 - val_accuracy: 0.9797\n",
            "Epoch 14/30\n",
            "492/492 [==============================] - 12s 24ms/step - loss: 0.0084 - accuracy: 0.9975 - val_loss: 0.0411 - val_accuracy: 0.9844\n",
            "Epoch 15/30\n",
            "492/492 [==============================] - 12s 24ms/step - loss: 0.0108 - accuracy: 0.9964 - val_loss: 0.0429 - val_accuracy: 0.9812\n",
            "Epoch 16/30\n",
            "492/492 [==============================] - 12s 24ms/step - loss: 0.0083 - accuracy: 0.9974 - val_loss: 0.0460 - val_accuracy: 0.9844\n",
            "Epoch 17/30\n",
            "492/492 [==============================] - 12s 24ms/step - loss: 0.0065 - accuracy: 0.9979 - val_loss: 0.0470 - val_accuracy: 0.9828\n",
            "Epoch 18/30\n",
            "492/492 [==============================] - 12s 24ms/step - loss: 0.0074 - accuracy: 0.9976 - val_loss: 0.0454 - val_accuracy: 0.9812\n",
            "Epoch 19/30\n",
            "492/492 [==============================] - 12s 24ms/step - loss: 0.0052 - accuracy: 0.9987 - val_loss: 0.0551 - val_accuracy: 0.9797\n",
            "Epoch 20/30\n",
            "492/492 [==============================] - 12s 23ms/step - loss: 0.0056 - accuracy: 0.9989 - val_loss: 0.0481 - val_accuracy: 0.9859\n",
            "Epoch 21/30\n",
            "492/492 [==============================] - 12s 24ms/step - loss: 0.0061 - accuracy: 0.9985 - val_loss: 0.0493 - val_accuracy: 0.9828\n",
            "Epoch 22/30\n",
            "492/492 [==============================] - 12s 24ms/step - loss: 0.0041 - accuracy: 0.9993 - val_loss: 0.0504 - val_accuracy: 0.9828\n",
            "Epoch 23/30\n",
            "492/492 [==============================] - 11s 23ms/step - loss: 0.0050 - accuracy: 0.9984 - val_loss: 0.0501 - val_accuracy: 0.9859\n",
            "Epoch 24/30\n",
            "492/492 [==============================] - 11s 23ms/step - loss: 0.0058 - accuracy: 0.9986 - val_loss: 0.0508 - val_accuracy: 0.9812\n",
            "Epoch 25/30\n",
            "492/492 [==============================] - 11s 23ms/step - loss: 0.0061 - accuracy: 0.9982 - val_loss: 0.0506 - val_accuracy: 0.9828\n",
            "Epoch 26/30\n",
            "492/492 [==============================] - 11s 23ms/step - loss: 0.0040 - accuracy: 0.9991 - val_loss: 0.0759 - val_accuracy: 0.9797\n",
            "Epoch 27/30\n",
            "492/492 [==============================] - 12s 24ms/step - loss: 0.0071 - accuracy: 0.9976 - val_loss: 0.0548 - val_accuracy: 0.9844\n",
            "Epoch 28/30\n",
            "492/492 [==============================] - 12s 24ms/step - loss: 0.0032 - accuracy: 0.9992 - val_loss: 0.0560 - val_accuracy: 0.9797\n",
            "Epoch 29/30\n",
            "492/492 [==============================] - 11s 23ms/step - loss: 0.0031 - accuracy: 0.9997 - val_loss: 0.0582 - val_accuracy: 0.9812\n",
            "Epoch 30/30\n",
            "492/492 [==============================] - 12s 24ms/step - loss: 0.0025 - accuracy: 0.9998 - val_loss: 0.0638 - val_accuracy: 0.9812\n"
          ],
          "name": "stdout"
        }
      ]
    },
    {
      "cell_type": "code",
      "metadata": {
        "id": "bc0o_eIprjD2"
      },
      "source": [
        "model.save_weights('weights_epoch_30.h5')"
      ],
      "execution_count": 21,
      "outputs": []
    },
    {
      "cell_type": "code",
      "metadata": {
        "colab": {
          "base_uri": "https://localhost:8080/",
          "height": 513
        },
        "id": "ZmQPu8kptRcO",
        "outputId": "f06a0e58-a109-4f94-aa93-b6a5ae84d9a2"
      },
      "source": [
        "acc = history.history['accuracy']\r\n",
        "val_acc = history.history['val_accuracy']\r\n",
        "\r\n",
        "loss = history.history['loss']\r\n",
        "val_loss = history.history['val_loss']\r\n",
        "\r\n",
        "plt.figure(figsize=(8, 8))\r\n",
        "plt.subplot(2, 1, 1)\r\n",
        "plt.plot(acc, label='Training Accuracy')\r\n",
        "plt.plot(val_acc, label='Validation Accuracy')\r\n",
        "plt.legend(loc='lower right')\r\n",
        "plt.ylabel('Accuracy')\r\n",
        "plt.title('Training and Validation Accuracy')\r\n",
        "\r\n",
        "plt.subplot(2, 1, 2)\r\n",
        "plt.plot(loss, label='Training Loss')\r\n",
        "plt.plot(val_loss, label='Validation Loss')\r\n",
        "plt.legend(loc='upper right')\r\n",
        "plt.ylabel('Cross Entropy')\r\n",
        "plt.title('Training and Validation Loss')\r\n",
        "plt.xlabel('epoch')\r\n",
        "plt.show()\r\n",
        "\r\n"
      ],
      "execution_count": 22,
      "outputs": [
        {
          "output_type": "display_data",
          "data": {
            "image/png": "[encoded data removed]",
            "text/plain": [
              "<Figure size 576x576 with 2 Axes>"
            ]
          },
          "metadata": {
            "tags": [],
            "needs_background": "light"
          }
        }
      ]
    },
    {
      "cell_type": "code",
      "metadata": {
        "id": "4v_bQ49NtU8t"
      },
      "source": [
        "base_model.trainable = True\r\n",
        "\r\n",
        "# Refreeze layers until the layers we want to fine-tune\r\n",
        "for layer in base_model.layers[:100]:\r\n",
        "  layer.trainable =  False"
      ],
      "execution_count": 23,
      "outputs": []
    },
    {
      "cell_type": "code",
      "metadata": {
        "colab": {
          "base_uri": "https://localhost:8080/"
        },
        "id": "xu_sBaHktmz2",
        "outputId": "76ca2d80-170e-44f5-d259-3fefe216a9e6"
      },
      "source": [
        "model.compile(loss='binary_crossentropy',\r\n",
        "              optimizer = tf.keras.optimizers.Adam(lr=learning_rate/10),\r\n",
        "              metrics=['accuracy'])\r\n",
        "model.summary()"
      ],
      "execution_count": 24,
      "outputs": [
        {
          "output_type": "stream",
          "text": [
            "Model: \"sequential\"\n",
            "_________________________________________________________________\n",
            "Layer (type)                 Output Shape              Param #   \n",
            "=================================================================\n",
            "mobilenetv2_1.00_96 (Functio (None, 3, 3, 1280)        2257984   \n",
            "_________________________________________________________________\n",
            "global_max_pooling2d (Global (None, 1280)              0         \n",
            "_________________________________________________________________\n",
            "dense (Dense)                (None, 1)                 1281      \n",
            "=================================================================\n",
            "Total params: 2,259,265\n",
            "Trainable params: 1,862,721\n",
            "Non-trainable params: 396,544\n",
            "_________________________________________________________________\n"
          ],
          "name": "stdout"
        }
      ]
    },
    {
      "cell_type": "code",
      "metadata": {
        "colab": {
          "base_uri": "https://localhost:8080/"
        },
        "id": "FFTSWzTkttoA",
        "outputId": "b655de69-f266-4470-cf01-f16ac3aafc25"
      },
      "source": [
        "fine_tune_epochs = 30\r\n",
        "total_epochs =  num_epochs + fine_tune_epochs\r\n",
        "\r\n",
        "history_fine = model.fit(train_data.repeat(), \r\n",
        "                         steps_per_epoch = steps_per_epoch,\r\n",
        "                         epochs=total_epochs, \r\n",
        "                         initial_epoch = num_epochs,\r\n",
        "                         validation_data=val_data.repeat(), \r\n",
        "                         validation_steps=val_steps)"
      ],
      "execution_count": 25,
      "outputs": [
        {
          "output_type": "stream",
          "text": [
            "Epoch 31/60\n",
            "492/492 [==============================] - 17s 21ms/step - loss: 0.4425 - accuracy: 0.9486 - val_loss: 1.0645 - val_accuracy: 0.8891\n",
            "Epoch 32/60\n",
            "492/492 [==============================] - 13s 26ms/step - loss: 0.1160 - accuracy: 0.9850 - val_loss: 0.3176 - val_accuracy: 0.9688\n",
            "Epoch 33/60\n",
            "492/492 [==============================] - 13s 26ms/step - loss: 0.0481 - accuracy: 0.9913 - val_loss: 0.3365 - val_accuracy: 0.9750\n",
            "Epoch 34/60\n",
            "492/492 [==============================] - 13s 26ms/step - loss: 0.0396 - accuracy: 0.9932 - val_loss: 0.0711 - val_accuracy: 0.9906\n",
            "Epoch 35/60\n",
            "492/492 [==============================] - 13s 26ms/step - loss: 0.0207 - accuracy: 0.9958 - val_loss: 0.1539 - val_accuracy: 0.9859\n",
            "Epoch 36/60\n",
            "492/492 [==============================] - 13s 26ms/step - loss: 0.0380 - accuracy: 0.9946 - val_loss: 0.2122 - val_accuracy: 0.9859\n",
            "Epoch 37/60\n",
            "492/492 [==============================] - 13s 26ms/step - loss: 0.0426 - accuracy: 0.9942 - val_loss: 0.2828 - val_accuracy: 0.9812\n",
            "Epoch 38/60\n",
            "492/492 [==============================] - 13s 26ms/step - loss: 0.0728 - accuracy: 0.9920 - val_loss: 0.1329 - val_accuracy: 0.9906\n",
            "Epoch 39/60\n",
            "492/492 [==============================] - 13s 26ms/step - loss: 0.0296 - accuracy: 0.9956 - val_loss: 0.1954 - val_accuracy: 0.9875\n",
            "Epoch 40/60\n",
            "492/492 [==============================] - 13s 26ms/step - loss: 0.0150 - accuracy: 0.9973 - val_loss: 0.2106 - val_accuracy: 0.9906\n",
            "Epoch 41/60\n",
            "492/492 [==============================] - 13s 26ms/step - loss: 0.0208 - accuracy: 0.9973 - val_loss: 0.1530 - val_accuracy: 0.9922\n",
            "Epoch 42/60\n",
            "492/492 [==============================] - 13s 26ms/step - loss: 0.0197 - accuracy: 0.9959 - val_loss: 0.0724 - val_accuracy: 0.9906\n",
            "Epoch 43/60\n",
            "492/492 [==============================] - 13s 26ms/step - loss: 0.0237 - accuracy: 0.9965 - val_loss: 0.1259 - val_accuracy: 0.9953\n",
            "Epoch 44/60\n",
            "492/492 [==============================] - 13s 26ms/step - loss: 0.0072 - accuracy: 0.9982 - val_loss: 0.0256 - val_accuracy: 0.9953\n",
            "Epoch 45/60\n",
            "492/492 [==============================] - 13s 26ms/step - loss: 0.0103 - accuracy: 0.9978 - val_loss: 0.3540 - val_accuracy: 0.9703\n",
            "Epoch 46/60\n",
            "492/492 [==============================] - 13s 26ms/step - loss: 0.0261 - accuracy: 0.9965 - val_loss: 0.0932 - val_accuracy: 0.9859\n",
            "Epoch 47/60\n",
            "492/492 [==============================] - 13s 26ms/step - loss: 0.0158 - accuracy: 0.9964 - val_loss: 0.0233 - val_accuracy: 0.9922\n",
            "Epoch 48/60\n",
            "492/492 [==============================] - 13s 26ms/step - loss: 0.0121 - accuracy: 0.9976 - val_loss: 0.0341 - val_accuracy: 0.9922\n",
            "Epoch 49/60\n",
            "492/492 [==============================] - 13s 26ms/step - loss: 0.0021 - accuracy: 0.9997 - val_loss: 0.0062 - val_accuracy: 0.9984\n",
            "Epoch 50/60\n",
            "492/492 [==============================] - 13s 26ms/step - loss: 4.0784e-04 - accuracy: 0.9997 - val_loss: 0.0181 - val_accuracy: 0.9953\n",
            "Epoch 51/60\n",
            "492/492 [==============================] - 13s 26ms/step - loss: 0.0085 - accuracy: 0.9983 - val_loss: 0.0550 - val_accuracy: 0.9953\n",
            "Epoch 52/60\n",
            "492/492 [==============================] - 13s 26ms/step - loss: 0.0030 - accuracy: 0.9990 - val_loss: 0.0627 - val_accuracy: 0.9875\n",
            "Epoch 53/60\n",
            "492/492 [==============================] - 13s 26ms/step - loss: 0.0043 - accuracy: 0.9991 - val_loss: 0.0195 - val_accuracy: 0.9953\n",
            "Epoch 54/60\n",
            "492/492 [==============================] - 13s 27ms/step - loss: 0.0194 - accuracy: 0.9967 - val_loss: 0.0156 - val_accuracy: 0.9953\n",
            "Epoch 55/60\n",
            "492/492 [==============================] - 13s 27ms/step - loss: 0.0032 - accuracy: 0.9990 - val_loss: 0.0255 - val_accuracy: 0.9922\n",
            "Epoch 56/60\n",
            "492/492 [==============================] - 13s 26ms/step - loss: 0.0026 - accuracy: 0.9992 - val_loss: 0.0626 - val_accuracy: 0.9906\n",
            "Epoch 57/60\n",
            "492/492 [==============================] - 13s 26ms/step - loss: 0.0147 - accuracy: 0.9973 - val_loss: 0.0293 - val_accuracy: 0.9953\n",
            "Epoch 58/60\n",
            "492/492 [==============================] - 13s 27ms/step - loss: 5.3492e-04 - accuracy: 0.9999 - val_loss: 0.0150 - val_accuracy: 0.9906\n",
            "Epoch 59/60\n",
            "492/492 [==============================] - 13s 26ms/step - loss: 0.0017 - accuracy: 0.9996 - val_loss: 0.1737 - val_accuracy: 0.9703\n",
            "Epoch 60/60\n",
            "492/492 [==============================] - 13s 26ms/step - loss: 0.0032 - accuracy: 0.9992 - val_loss: 0.1498 - val_accuracy: 0.9781\n"
          ],
          "name": "stdout"
        }
      ]
    },
    {
      "cell_type": "code",
      "metadata": {
        "id": "Pi0km_qctwCa"
      },
      "source": [
        "model.save_weights('weights_epoch_50_finetuned.h5')"
      ],
      "execution_count": 26,
      "outputs": []
    },
    {
      "cell_type": "code",
      "metadata": {
        "id": "bc2MPrs4t0Oq"
      },
      "source": [
        "acc += history_fine.history['accuracy']\r\n",
        "val_acc += history_fine.history['val_accuracy']\r\n",
        "\r\n",
        "loss += history_fine.history['loss']\r\n",
        "val_loss += history_fine.history['val_loss']"
      ],
      "execution_count": 27,
      "outputs": []
    },
    {
      "cell_type": "code",
      "metadata": {
        "colab": {
          "base_uri": "https://localhost:8080/",
          "height": 513
        },
        "id": "zt5f98Mht2Ec",
        "outputId": "234db910-d472-4227-f06b-f65061996dc1"
      },
      "source": [
        "plt.figure(figsize=(8, 8))\r\n",
        "plt.subplot(2, 1, 1)\r\n",
        "plt.plot(acc, label='Training Accuracy')\r\n",
        "plt.plot(val_acc, label='Validation Accuracy')\r\n",
        "plt.plot([num_epochs-1,num_epochs-1], \r\n",
        "          plt.ylim(), label='Start Fine Tuning')\r\n",
        "plt.legend(loc='lower right')\r\n",
        "plt.title('Training and Validation Accuracy')\r\n",
        "\r\n",
        "plt.subplot(2, 1, 2)\r\n",
        "plt.plot(loss, label='Training Loss')\r\n",
        "plt.plot(val_loss, label='Validation Loss')\r\n",
        "plt.plot([num_epochs-1,num_epochs-1], \r\n",
        "         plt.ylim(), label='Start Fine Tuning')\r\n",
        "plt.legend(loc='upper right')\r\n",
        "plt.title('Training and Validation Loss')\r\n",
        "plt.xlabel('epoch')\r\n",
        "plt.show()"
      ],
      "execution_count": 28,
      "outputs": [
        {
          "output_type": "display_data",
          "data": {
            "image/png": "[encoded data removed]",
            "text/plain": [
              "<Figure size 576x576 with 2 Axes>"
            ]
          },
          "metadata": {
            "tags": [],
            "needs_background": "light"
          }
        }
      ]
    },
    {
      "cell_type": "code",
      "metadata": {
        "id": "sTOGLFKX5Wqz"
      },
      "source": [
        "\r\n",
        "def _parse_fn_test(filename):\r\n",
        "  image_string = tf.io.read_file(filename)\r\n",
        "  image_decoded = tf.image.decode_jpeg(image_string)\r\n",
        "  image_normalized = (tf.cast(image_decoded, tf.float32)/127.5) - 1\r\n",
        "  image_resized = tf.image.resize(image_normalized, (IMAGE_SIZE, IMAGE_SIZE))\r\n",
        "  return image_resized"
      ],
      "execution_count": 29,
      "outputs": []
    },
    {
      "cell_type": "code",
      "metadata": {
        "id": "ndbn1kf7t44O"
      },
      "source": [
        "\r\n",
        "test_filenames=['data/test/'+  fname for fname in os.listdir('data/test')]\r\n",
        "test_data = tf.data.Dataset.from_tensor_slices(\r\n",
        "  (tf.constant(test_filenames))\r\n",
        ")\r\n",
        "test_data=(test_data.map(_parse_fn_test).batch((BATCH_SIZE)))\r\n",
        "pred=model.predict(test_data)"
      ],
      "execution_count": 30,
      "outputs": []
    },
    {
      "cell_type": "code",
      "metadata": {
        "colab": {
          "base_uri": "https://localhost:8080/",
          "height": 206
        },
        "id": "IMW-_7XvbCI-",
        "outputId": "54f23c1d-4075-40dc-9f23-0679f9df9932"
      },
      "source": [
        "df_sample=pd.read_csv('data/sample_submission.csv')\r\n",
        "df_sample.head()"
      ],
      "execution_count": 31,
      "outputs": [
        {
          "output_type": "execute_result",
          "data": {
            "text/html": [
              "<div>\n",
              "<style scoped>\n",
              "    .dataframe tbody tr th:only-of-type {\n",
              "        vertical-align: middle;\n",
              "    }\n",
              "\n",
              "    .dataframe tbody tr th {\n",
              "        vertical-align: top;\n",
              "    }\n",
              "\n",
              "    .dataframe thead th {\n",
              "        text-align: right;\n",
              "    }\n",
              "</style>\n",
              "<table border=\"1\" class=\"dataframe\">\n",
              "  <thead>\n",
              "    <tr style=\"text-align: right;\">\n",
              "      <th></th>\n",
              "      <th>id</th>\n",
              "      <th>has_cactus</th>\n",
              "    </tr>\n",
              "  </thead>\n",
              "  <tbody>\n",
              "    <tr>\n",
              "      <th>0</th>\n",
              "      <td>000940378805c44108d287872b2f04ce.jpg</td>\n",
              "      <td>0.5</td>\n",
              "    </tr>\n",
              "    <tr>\n",
              "      <th>1</th>\n",
              "      <td>0017242f54ececa4512b4d7937d1e21e.jpg</td>\n",
              "      <td>0.5</td>\n",
              "    </tr>\n",
              "    <tr>\n",
              "      <th>2</th>\n",
              "      <td>001ee6d8564003107853118ab87df407.jpg</td>\n",
              "      <td>0.5</td>\n",
              "    </tr>\n",
              "    <tr>\n",
              "      <th>3</th>\n",
              "      <td>002e175c3c1e060769475f52182583d0.jpg</td>\n",
              "      <td>0.5</td>\n",
              "    </tr>\n",
              "    <tr>\n",
              "      <th>4</th>\n",
              "      <td>0036e44a7e8f7218e9bc7bf8137e4943.jpg</td>\n",
              "      <td>0.5</td>\n",
              "    </tr>\n",
              "  </tbody>\n",
              "</table>\n",
              "</div>"
            ],
            "text/plain": [
              "                                     id  has_cactus\n",
              "0  000940378805c44108d287872b2f04ce.jpg         0.5\n",
              "1  0017242f54ececa4512b4d7937d1e21e.jpg         0.5\n",
              "2  001ee6d8564003107853118ab87df407.jpg         0.5\n",
              "3  002e175c3c1e060769475f52182583d0.jpg         0.5\n",
              "4  0036e44a7e8f7218e9bc7bf8137e4943.jpg         0.5"
            ]
          },
          "metadata": {
            "tags": []
          },
          "execution_count": 31
        }
      ]
    },
    {
      "cell_type": "code",
      "metadata": {
        "colab": {
          "base_uri": "https://localhost:8080/"
        },
        "id": "R31_VmWl1Y6a",
        "outputId": "627e45ff-703a-4664-cb48-f1d62050138c"
      },
      "source": [
        "df=pd.DataFrame(test_filenames,columns=['id'])\r\n",
        "df['id']=df['id'].apply(lambda x : x.split('/')[-1])\r\n",
        "df['has_cactus']=pred\r\n",
        "df.to_csv('submission.csv',index=False)\r\n",
        "!kaggle competitions submit aerial-cactus-identification -f submission.csv -m \"My 1st submission\""
      ],
      "execution_count": 32,
      "outputs": [
        {
          "output_type": "stream",
          "text": [
            "Warning: Looks like you're using an outdated API Version, please consider updating (server 1.5.10 / client 1.5.4)\n",
            "100% 174k/174k [00:00<00:00, 346kB/s]\n",
            "403 - This competition only allows kernel submissions.\n"
          ],
          "name": "stdout"
        }
      ]
    },
    {
      "cell_type": "code",
      "metadata": {
        "colab": {
          "base_uri": "https://localhost:8080/",
          "height": 17
        },
        "id": "vK6CSTRwUEwT",
        "outputId": "f6bd246b-bd03-43e1-9b57-9b67be95b1f7"
      },
      "source": [
        "from google.colab import files\r\n",
        "files.download('submission.csv')\r\n"
      ],
      "execution_count": 33,
      "outputs": [
        {
          "output_type": "display_data",
          "data": {
            "application/javascript": [
              "\n",
              "    async function download(id, filename, size) {\n",
              "      if (!google.colab.kernel.accessAllowed) {\n",
              "        return;\n",
              "      }\n",
              "      const div = document.createElement('div');\n",
              "      const label = document.createElement('label');\n",
              "      label.textContent = `Downloading \"${filename}\": `;\n",
              "      div.appendChild(label);\n",
              "      const progress = document.createElement('progress');\n",
              "      progress.max = size;\n",
              "      div.appendChild(progress);\n",
              "      document.body.appendChild(div);\n",
              "\n",
              "      const buffers = [];\n",
              "      let downloaded = 0;\n",
              "\n",
              "      const channel = await google.colab.kernel.comms.open(id);\n",
              "      // Send a message to notify the kernel that we're ready.\n",
              "      channel.send({})\n",
              "\n",
              "      for await (const message of channel.messages) {\n",
              "        // Send a message to notify the kernel that we're ready.\n",
              "        channel.send({})\n",
              "        if (message.buffers) {\n",
              "          for (const buffer of message.buffers) {\n",
              "            buffers.push(buffer);\n",
              "            downloaded += buffer.byteLength;\n",
              "            progress.value = downloaded;\n",
              "          }\n",
              "        }\n",
              "      }\n",
              "      const blob = new Blob(buffers, {type: 'application/binary'});\n",
              "      const a = document.createElement('a');\n",
              "      a.href = window.URL.createObjectURL(blob);\n",
              "      a.download = filename;\n",
              "      div.appendChild(a);\n",
              "      a.click();\n",
              "      div.remove();\n",
              "    }\n",
              "  "
            ],
            "text/plain": [
              "<IPython.core.display.Javascript object>"
            ]
          },
          "metadata": {
            "tags": []
          }
        },
        {
          "output_type": "display_data",
          "data": {
            "application/javascript": [
              "download(\"download_1ddc38c6-c6e1-4cea-83cd-47dc8368d870\", \"submission.csv\", 178051)"
            ],
            "text/plain": [
              "<IPython.core.display.Javascript object>"
            ]
          },
          "metadata": {
            "tags": []
          }
        }
      ]
    }
  ]
}