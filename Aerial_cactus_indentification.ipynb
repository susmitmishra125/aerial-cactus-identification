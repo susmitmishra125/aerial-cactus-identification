{
  "nbformat": 4,
  "nbformat_minor": 0,
  "metadata": {
    "accelerator": "GPU",
    "colab": {
      "name": "Aerial_cactus_indentification.ipynb",
      "provenance": [],
      "collapsed_sections": [],
      "authorship_tag": "ABX9TyM4nL7Tzb0A174saNOXXN7l",
      "include_colab_link": true
    },
    "kernelspec": {
      "display_name": "Python 3",
      "name": "python3"
    }
  },
  "cells": [
    {
      "cell_type": "markdown",
      "metadata": {
        "id": "view-in-github",
        "colab_type": "text"
      },
      "source": [
        "<a href=\"https://colab.research.google.com/github/susmitmishra125/aerial-cactus-identification/blob/main/Aerial_cactus_indentification.ipynb\" target=\"_parent\"><img src=\"https://colab.research.google.com/assets/colab-badge.svg\" alt=\"Open In Colab\"/></a>"
      ]
    },
    {
      "cell_type": "code",
      "metadata": {
        "id": "sikqTP9UMM06"
      },
      "source": [
        " from google.colab import files"
      ],
      "execution_count": 1,
      "outputs": []
    },
    {
      "cell_type": "code",
      "metadata": {
        "colab": {
          "resources": {
            "http://localhost:8080/nbextensions/google.colab/files.js": {
              "data": "Ly8gQ29weXJpZ2h0IDIwMTcgR29vZ2xlIExMQwovLwovLyBMaWNlbnNlZCB1bmRlciB0aGUgQXBhY2hlIExpY2Vuc2UsIFZlcnNpb24gMi4wICh0aGUgIkxpY2Vuc2UiKTsKLy8geW91IG1heSBub3QgdXNlIHRoaXMgZmlsZSBleGNlcHQgaW4gY29tcGxpYW5jZSB3aXRoIHRoZSBMaWNlbnNlLgovLyBZb3UgbWF5IG9idGFpbiBhIGNvcHkgb2YgdGhlIExpY2Vuc2UgYXQKLy8KLy8gICAgICBodHRwOi8vd3d3LmFwYWNoZS5vcmcvbGljZW5zZXMvTElDRU5TRS0yLjAKLy8KLy8gVW5sZXNzIHJlcXVpcmVkIGJ5IGFwcGxpY2FibGUgbGF3IG9yIGFncmVlZCB0byBpbiB3cml0aW5nLCBzb2Z0d2FyZQovLyBkaXN0cmlidXRlZCB1bmRlciB0aGUgTGljZW5zZSBpcyBkaXN0cmlidXRlZCBvbiBhbiAiQVMgSVMiIEJBU0lTLAovLyBXSVRIT1VUIFdBUlJBTlRJRVMgT1IgQ09ORElUSU9OUyBPRiBBTlkgS0lORCwgZWl0aGVyIGV4cHJlc3Mgb3IgaW1wbGllZC4KLy8gU2VlIHRoZSBMaWNlbnNlIGZvciB0aGUgc3BlY2lmaWMgbGFuZ3VhZ2UgZ292ZXJuaW5nIHBlcm1pc3Npb25zIGFuZAovLyBsaW1pdGF0aW9ucyB1bmRlciB0aGUgTGljZW5zZS4KCi8qKgogKiBAZmlsZW92ZXJ2aWV3IEhlbHBlcnMgZm9yIGdvb2dsZS5jb2xhYiBQeXRob24gbW9kdWxlLgogKi8KKGZ1bmN0aW9uKHNjb3BlKSB7CmZ1bmN0aW9uIHNwYW4odGV4dCwgc3R5bGVBdHRyaWJ1dGVzID0ge30pIHsKICBjb25zdCBlbGVtZW50ID0gZG9jdW1lbnQuY3JlYXRlRWxlbWVudCgnc3BhbicpOwogIGVsZW1lbnQudGV4dENvbnRlbnQgPSB0ZXh0OwogIGZvciAoY29uc3Qga2V5IG9mIE9iamVjdC5rZXlzKHN0eWxlQXR0cmlidXRlcykpIHsKICAgIGVsZW1lbnQuc3R5bGVba2V5XSA9IHN0eWxlQXR0cmlidXRlc1trZXldOwogIH0KICByZXR1cm4gZWxlbWVudDsKfQoKLy8gTWF4IG51bWJlciBvZiBieXRlcyB3aGljaCB3aWxsIGJlIHVwbG9hZGVkIGF0IGEgdGltZS4KY29uc3QgTUFYX1BBWUxPQURfU0laRSA9IDEwMCAqIDEwMjQ7CgpmdW5jdGlvbiBfdXBsb2FkRmlsZXMoaW5wdXRJZCwgb3V0cHV0SWQpIHsKICBjb25zdCBzdGVwcyA9IHVwbG9hZEZpbGVzU3RlcChpbnB1dElkLCBvdXRwdXRJZCk7CiAgY29uc3Qgb3V0cHV0RWxlbWVudCA9IGRvY3VtZW50LmdldEVsZW1lbnRCeUlkKG91dHB1dElkKTsKICAvLyBDYWNoZSBzdGVwcyBvbiB0aGUgb3V0cHV0RWxlbWVudCB0byBtYWtlIGl0IGF2YWlsYWJsZSBmb3IgdGhlIG5leHQgY2FsbAogIC8vIHRvIHVwbG9hZEZpbGVzQ29udGludWUgZnJvbSBQeXRob24uCiAgb3V0cHV0RWxlbWVudC5zdGVwcyA9IHN0ZXBzOwoKICByZXR1cm4gX3VwbG9hZEZpbGVzQ29udGludWUob3V0cHV0SWQpOwp9CgovLyBUaGlzIGlzIHJvdWdobHkgYW4gYXN5bmMgZ2VuZXJhdG9yIChub3Qgc3VwcG9ydGVkIGluIHRoZSBicm93c2VyIHlldCksCi8vIHdoZXJlIHRoZXJlIGFyZSBtdWx0aXBsZSBhc3luY2hyb25vdXMgc3RlcHMgYW5kIHRoZSBQeXRob24gc2lkZSBpcyBnb2luZwovLyB0byBwb2xsIGZvciBjb21wbGV0aW9uIG9mIGVhY2ggc3RlcC4KLy8gVGhpcyB1c2VzIGEgUHJvbWlzZSB0byBibG9jayB0aGUgcHl0aG9uIHNpZGUgb24gY29tcGxldGlvbiBvZiBlYWNoIHN0ZXAsCi8vIHRoZW4gcGFzc2VzIHRoZSByZXN1bHQgb2YgdGhlIHByZXZpb3VzIHN0ZXAgYXMgdGhlIGlucHV0IHRvIHRoZSBuZXh0IHN0ZXAuCmZ1bmN0aW9uIF91cGxvYWRGaWxlc0NvbnRpbnVlKG91dHB1dElkKSB7CiAgY29uc3Qgb3V0cHV0RWxlbWVudCA9IGRvY3VtZW50LmdldEVsZW1lbnRCeUlkKG91dHB1dElkKTsKICBjb25zdCBzdGVwcyA9IG91dHB1dEVsZW1lbnQuc3RlcHM7CgogIGNvbnN0IG5leHQgPSBzdGVwcy5uZXh0KG91dHB1dEVsZW1lbnQubGFzdFByb21pc2VWYWx1ZSk7CiAgcmV0dXJuIFByb21pc2UucmVzb2x2ZShuZXh0LnZhbHVlLnByb21pc2UpLnRoZW4oKHZhbHVlKSA9PiB7CiAgICAvLyBDYWNoZSB0aGUgbGFzdCBwcm9taXNlIHZhbHVlIHRvIG1ha2UgaXQgYXZhaWxhYmxlIHRvIHRoZSBuZXh0CiAgICAvLyBzdGVwIG9mIHRoZSBnZW5lcmF0b3IuCiAgICBvdXRwdXRFbGVtZW50Lmxhc3RQcm9taXNlVmFsdWUgPSB2YWx1ZTsKICAgIHJldHVybiBuZXh0LnZhbHVlLnJlc3BvbnNlOwogIH0pOwp9CgovKioKICogR2VuZXJhdG9yIGZ1bmN0aW9uIHdoaWNoIGlzIGNhbGxlZCBiZXR3ZWVuIGVhY2ggYXN5bmMgc3RlcCBvZiB0aGUgdXBsb2FkCiAqIHByb2Nlc3MuCiAqIEBwYXJhbSB7c3RyaW5nfSBpbnB1dElkIEVsZW1lbnQgSUQgb2YgdGhlIGlucHV0IGZpbGUgcGlja2VyIGVsZW1lbnQuCiAqIEBwYXJhbSB7c3RyaW5nfSBvdXRwdXRJZCBFbGVtZW50IElEIG9mIHRoZSBvdXRwdXQgZGlzcGxheS4KICogQHJldHVybiB7IUl0ZXJhYmxlPCFPYmplY3Q+fSBJdGVyYWJsZSBvZiBuZXh0IHN0ZXBzLgogKi8KZnVuY3Rpb24qIHVwbG9hZEZpbGVzU3RlcChpbnB1dElkLCBvdXRwdXRJZCkgewogIGNvbnN0IGlucHV0RWxlbWVudCA9IGRvY3VtZW50LmdldEVsZW1lbnRCeUlkKGlucHV0SWQpOwogIGlucHV0RWxlbWVudC5kaXNhYmxlZCA9IGZhbHNlOwoKICBjb25zdCBvdXRwdXRFbGVtZW50ID0gZG9jdW1lbnQuZ2V0RWxlbWVudEJ5SWQob3V0cHV0SWQpOwogIG91dHB1dEVsZW1lbnQuaW5uZXJIVE1MID0gJyc7CgogIGNvbnN0IHBpY2tlZFByb21pc2UgPSBuZXcgUHJvbWlzZSgocmVzb2x2ZSkgPT4gewogICAgaW5wdXRFbGVtZW50LmFkZEV2ZW50TGlzdGVuZXIoJ2NoYW5nZScsIChlKSA9PiB7CiAgICAgIHJlc29sdmUoZS50YXJnZXQuZmlsZXMpOwogICAgfSk7CiAgfSk7CgogIGNvbnN0IGNhbmNlbCA9IGRvY3VtZW50LmNyZWF0ZUVsZW1lbnQoJ2J1dHRvbicpOwogIGlucHV0RWxlbWVudC5wYXJlbnRFbGVtZW50LmFwcGVuZENoaWxkKGNhbmNlbCk7CiAgY2FuY2VsLnRleHRDb250ZW50ID0gJ0NhbmNlbCB1cGxvYWQnOwogIGNvbnN0IGNhbmNlbFByb21pc2UgPSBuZXcgUHJvbWlzZSgocmVzb2x2ZSkgPT4gewogICAgY2FuY2VsLm9uY2xpY2sgPSAoKSA9PiB7CiAgICAgIHJlc29sdmUobnVsbCk7CiAgICB9OwogIH0pOwoKICAvLyBXYWl0IGZvciB0aGUgdXNlciB0byBwaWNrIHRoZSBmaWxlcy4KICBjb25zdCBmaWxlcyA9IHlpZWxkIHsKICAgIHByb21pc2U6IFByb21pc2UucmFjZShbcGlja2VkUHJvbWlzZSwgY2FuY2VsUHJvbWlzZV0pLAogICAgcmVzcG9uc2U6IHsKICAgICAgYWN0aW9uOiAnc3RhcnRpbmcnLAogICAgfQogIH07CgogIGNhbmNlbC5yZW1vdmUoKTsKCiAgLy8gRGlzYWJsZSB0aGUgaW5wdXQgZWxlbWVudCBzaW5jZSBmdXJ0aGVyIHBpY2tzIGFyZSBub3QgYWxsb3dlZC4KICBpbnB1dEVsZW1lbnQuZGlzYWJsZWQgPSB0cnVlOwoKICBpZiAoIWZpbGVzKSB7CiAgICByZXR1cm4gewogICAgICByZXNwb25zZTogewogICAgICAgIGFjdGlvbjogJ2NvbXBsZXRlJywKICAgICAgfQogICAgfTsKICB9CgogIGZvciAoY29uc3QgZmlsZSBvZiBmaWxlcykgewogICAgY29uc3QgbGkgPSBkb2N1bWVudC5jcmVhdGVFbGVtZW50KCdsaScpOwogICAgbGkuYXBwZW5kKHNwYW4oZmlsZS5uYW1lLCB7Zm9udFdlaWdodDogJ2JvbGQnfSkpOwogICAgbGkuYXBwZW5kKHNwYW4oCiAgICAgICAgYCgke2ZpbGUudHlwZSB8fCAnbi9hJ30pIC0gJHtmaWxlLnNpemV9IGJ5dGVzLCBgICsKICAgICAgICBgbGFzdCBtb2RpZmllZDogJHsKICAgICAgICAgICAgZmlsZS5sYXN0TW9kaWZpZWREYXRlID8gZmlsZS5sYXN0TW9kaWZpZWREYXRlLnRvTG9jYWxlRGF0ZVN0cmluZygpIDoKICAgICAgICAgICAgICAgICAgICAgICAgICAgICAgICAgICAgJ24vYSd9IC0gYCkpOwogICAgY29uc3QgcGVyY2VudCA9IHNwYW4oJzAlIGRvbmUnKTsKICAgIGxpLmFwcGVuZENoaWxkKHBlcmNlbnQpOwoKICAgIG91dHB1dEVsZW1lbnQuYXBwZW5kQ2hpbGQobGkpOwoKICAgIGNvbnN0IGZpbGVEYXRhUHJvbWlzZSA9IG5ldyBQcm9taXNlKChyZXNvbHZlKSA9PiB7CiAgICAgIGNvbnN0IHJlYWRlciA9IG5ldyBGaWxlUmVhZGVyKCk7CiAgICAgIHJlYWRlci5vbmxvYWQgPSAoZSkgPT4gewogICAgICAgIHJlc29sdmUoZS50YXJnZXQucmVzdWx0KTsKICAgICAgfTsKICAgICAgcmVhZGVyLnJlYWRBc0FycmF5QnVmZmVyKGZpbGUpOwogICAgfSk7CiAgICAvLyBXYWl0IGZvciB0aGUgZGF0YSB0byBiZSByZWFkeS4KICAgIGxldCBmaWxlRGF0YSA9IHlpZWxkIHsKICAgICAgcHJvbWlzZTogZmlsZURhdGFQcm9taXNlLAogICAgICByZXNwb25zZTogewogICAgICAgIGFjdGlvbjogJ2NvbnRpbnVlJywKICAgICAgfQogICAgfTsKCiAgICAvLyBVc2UgYSBjaHVua2VkIHNlbmRpbmcgdG8gYXZvaWQgbWVzc2FnZSBzaXplIGxpbWl0cy4gU2VlIGIvNjIxMTU2NjAuCiAgICBsZXQgcG9zaXRpb24gPSAwOwogICAgd2hpbGUgKHBvc2l0aW9uIDwgZmlsZURhdGEuYnl0ZUxlbmd0aCkgewogICAgICBjb25zdCBsZW5ndGggPSBNYXRoLm1pbihmaWxlRGF0YS5ieXRlTGVuZ3RoIC0gcG9zaXRpb24sIE1BWF9QQVlMT0FEX1NJWkUpOwogICAgICBjb25zdCBjaHVuayA9IG5ldyBVaW50OEFycmF5KGZpbGVEYXRhLCBwb3NpdGlvbiwgbGVuZ3RoKTsKICAgICAgcG9zaXRpb24gKz0gbGVuZ3RoOwoKICAgICAgY29uc3QgYmFzZTY0ID0gYnRvYShTdHJpbmcuZnJvbUNoYXJDb2RlLmFwcGx5KG51bGwsIGNodW5rKSk7CiAgICAgIHlpZWxkIHsKICAgICAgICByZXNwb25zZTogewogICAgICAgICAgYWN0aW9uOiAnYXBwZW5kJywKICAgICAgICAgIGZpbGU6IGZpbGUubmFtZSwKICAgICAgICAgIGRhdGE6IGJhc2U2NCwKICAgICAgICB9LAogICAgICB9OwogICAgICBwZXJjZW50LnRleHRDb250ZW50ID0KICAgICAgICAgIGAke01hdGgucm91bmQoKHBvc2l0aW9uIC8gZmlsZURhdGEuYnl0ZUxlbmd0aCkgKiAxMDApfSUgZG9uZWA7CiAgICB9CiAgfQoKICAvLyBBbGwgZG9uZS4KICB5aWVsZCB7CiAgICByZXNwb25zZTogewogICAgICBhY3Rpb246ICdjb21wbGV0ZScsCiAgICB9CiAgfTsKfQoKc2NvcGUuZ29vZ2xlID0gc2NvcGUuZ29vZ2xlIHx8IHt9OwpzY29wZS5nb29nbGUuY29sYWIgPSBzY29wZS5nb29nbGUuY29sYWIgfHwge307CnNjb3BlLmdvb2dsZS5jb2xhYi5fZmlsZXMgPSB7CiAgX3VwbG9hZEZpbGVzLAogIF91cGxvYWRGaWxlc0NvbnRpbnVlLAp9Owp9KShzZWxmKTsK",
              "ok": true,
              "headers": [
                [
                  "content-type",
                  "application/javascript"
                ]
              ],
              "status": 200,
              "status_text": "OK"
            }
          },
          "base_uri": "https://localhost:8080/",
          "height": 93
        },
        "id": "cuYT74G-SC2X",
        "outputId": "51b7c447-4d8e-4cca-8db9-81826dc4f7e5"
      },
      "source": [
        "files.upload()"
      ],
      "execution_count": 2,
      "outputs": [
        {
          "output_type": "display_data",
          "data": {
            "text/html": [
              "\n",
              "     <input type=\"file\" id=\"files-cb62d086-0aed-4266-b679-efcaeafe6b84\" name=\"files[]\" multiple disabled\n",
              "        style=\"border:none\" />\n",
              "     <output id=\"result-cb62d086-0aed-4266-b679-efcaeafe6b84\">\n",
              "      Upload widget is only available when the cell has been executed in the\n",
              "      current browser session. Please rerun this cell to enable.\n",
              "      </output>\n",
              "      <script src=\"/nbextensions/google.colab/files.js\"></script> "
            ],
            "text/plain": [
              "<IPython.core.display.HTML object>"
            ]
          },
          "metadata": {
            "tags": []
          }
        },
        {
          "output_type": "stream",
          "text": [
            "Saving kaggle.json to kaggle.json\n"
          ],
          "name": "stdout"
        },
        {
          "output_type": "execute_result",
          "data": {
            "text/plain": [
              "{'kaggle.json': b'{\"username\":\"susmitkumarmishra\",\"key\":\"7662dc7e9c23ab4b238e21f1a25c9e1c\"}'}"
            ]
          },
          "metadata": {
            "tags": []
          },
          "execution_count": 2
        }
      ]
    },
    {
      "cell_type": "code",
      "metadata": {
        "id": "H3xJ_kzmSmUT"
      },
      "source": [
        "!mkdir ~/.kaggle"
      ],
      "execution_count": 3,
      "outputs": []
    },
    {
      "cell_type": "code",
      "metadata": {
        "id": "XRaPVdZu8yiP"
      },
      "source": [
        "! cp kaggle.json ~/.kaggle/"
      ],
      "execution_count": 4,
      "outputs": []
    },
    {
      "cell_type": "code",
      "metadata": {
        "id": "LLikr2AjoPoE"
      },
      "source": [
        " ! chmod 600 ~/.kaggle/kaggle.json"
      ],
      "execution_count": 5,
      "outputs": []
    },
    {
      "cell_type": "code",
      "metadata": {
        "id": "xdCC0lL6pXB3"
      },
      "source": [
        "!kaggle datasets list"
      ],
      "execution_count": null,
      "outputs": []
    },
    {
      "cell_type": "code",
      "metadata": {
        "colab": {
          "base_uri": "https://localhost:8080/"
        },
        "id": "aXa_Z5EwDJub",
        "outputId": "c76f0332-c5b6-42a3-ccfb-55df0ae76dbb"
      },
      "source": [
        "!mkdir -p data\r\n",
        "!kaggle competitions download -c aerial-cactus-identification -p data"
      ],
      "execution_count": 7,
      "outputs": [
        {
          "output_type": "stream",
          "text": [
            "Warning: Looks like you're using an outdated API Version, please consider updating (server 1.5.10 / client 1.5.4)\n",
            "Downloading train.csv to data\n",
            "  0% 0.00/667k [00:00<?, ?B/s]\n",
            "100% 667k/667k [00:00<00:00, 45.5MB/s]\n",
            "Downloading sample_submission.csv to data\n",
            "  0% 0.00/160k [00:00<?, ?B/s]\n",
            "100% 160k/160k [00:00<00:00, 52.4MB/s]\n",
            "Downloading train.zip to data\n",
            " 88% 17.0M/19.2M [00:01<00:00, 8.60MB/s]\n",
            "100% 19.2M/19.2M [00:01<00:00, 18.0MB/s]\n",
            "Downloading test.zip to data\n",
            "100% 4.20M/4.20M [00:00<00:00, 17.0MB/s]\n",
            "\n"
          ],
          "name": "stdout"
        }
      ]
    },
    {
      "cell_type": "code",
      "metadata": {
        "id": "JKqjq3zrDKkc"
      },
      "source": [
        "!unzip data/train.zip -d data\r\n",
        "!unzip data/test.zip -d data"
      ],
      "execution_count": null,
      "outputs": []
    },
    {
      "cell_type": "code",
      "metadata": {
        "colab": {
          "base_uri": "https://localhost:8080/"
        },
        "id": "T62qbuRepyGQ",
        "outputId": "affa80ed-7775-4b9b-a7e2-7dcf4b990736"
      },
      "source": [
        "import tensorflow as tf\r\n",
        "import pandas as pd\r\n",
        "import matplotlib.pyplot as plt\r\n",
        "from sklearn.model_selection import train_test_split\r\n",
        "from IPython.display import Image, display\r\n",
        "\r\n",
        "print(tf.__version__)"
      ],
      "execution_count": 9,
      "outputs": [
        {
          "output_type": "stream",
          "text": [
            "2.4.0\n"
          ],
          "name": "stdout"
        }
      ]
    },
    {
      "cell_type": "code",
      "metadata": {
        "id": "_3OKV3kop2cO",
        "colab": {
          "base_uri": "https://localhost:8080/"
        },
        "outputId": "2fad63b5-1b23-4e47-e648-7ba96ee8526d"
      },
      "source": [
        "train_csv = pd.read_csv('data/train.csv')\r\n",
        "print(train_csv.describe())\r\n",
        "print(train_csv.head())"
      ],
      "execution_count": 10,
      "outputs": [
        {
          "output_type": "stream",
          "text": [
            "         has_cactus\n",
            "count  17500.000000\n",
            "mean       0.750629\n",
            "std        0.432662\n",
            "min        0.000000\n",
            "25%        1.000000\n",
            "50%        1.000000\n",
            "75%        1.000000\n",
            "max        1.000000\n",
            "                                     id  has_cactus\n",
            "0  0004be2cfeaba1c0361d39e2b000257b.jpg           1\n",
            "1  000c8a36845c0208e833c79c1bffedd1.jpg           1\n",
            "2  000d1e9a533f62e55c289303b072733d.jpg           1\n",
            "3  0011485b40695e9138e92d0b3fb55128.jpg           1\n",
            "4  0014d7a11e90b62848904c1418fc8cf2.jpg           1\n"
          ],
          "name": "stdout"
        }
      ]
    },
    {
      "cell_type": "code",
      "metadata": {
        "id": "hP__YackqQ_w"
      },
      "source": [
        "filenames = ['data/train/' + fname for fname in train_csv['id'].tolist()]\r\n",
        "labels = train_csv['has_cactus'].tolist()\r\n",
        "\r\n",
        "train_filenames, val_filenames, train_labels, val_labels = train_test_split(filenames,\r\n",
        "                                                                            labels,\r\n",
        "                                                                            train_size=0.9,\r\n",
        "                                                                            random_state=420)\r\n",
        "\r\n",
        "num_train = len(train_filenames)\r\n",
        "num_val = len(val_filenames)"
      ],
      "execution_count": 11,
      "outputs": []
    },
    {
      "cell_type": "code",
      "metadata": {
        "id": "PRTScsukqaxs"
      },
      "source": [
        "IMAGE_SIZE = 96\r\n",
        "\r\n",
        "\r\n",
        "def _parse_fn(filename, label):\r\n",
        "  image_string = tf.io.read_file(filename)\r\n",
        "  image_decoded = tf.image.decode_jpeg(image_string)\r\n",
        "  image_normalized = (tf.cast(image_decoded, tf.float32)/127.5) - 1\r\n",
        "  image_resized = tf.image.resize(image_normalized, (IMAGE_SIZE, IMAGE_SIZE))\r\n",
        "  return image_resized, label"
      ],
      "execution_count": 12,
      "outputs": []
    },
    {
      "cell_type": "code",
      "metadata": {
        "id": "L9dFNIHPqc3T"
      },
      "source": [
        "BATCH_SIZE = 32\r\n",
        "\r\n",
        "train_data = tf.data.Dataset.from_tensor_slices((tf.constant(train_filenames), tf.constant(train_labels))).map(_parse_fn).shuffle(buffer_size=10000).batch(BATCH_SIZE)\r\n",
        "\r\n",
        "\r\n",
        "val_data = tf.data.Dataset.from_tensor_slices((tf.constant(val_filenames), tf.constant(val_labels))).map(_parse_fn).batch(BATCH_SIZE)"
      ],
      "execution_count": 13,
      "outputs": []
    },
    {
      "cell_type": "code",
      "metadata": {
        "colab": {
          "base_uri": "https://localhost:8080/"
        },
        "id": "xhQM63dJqg9G",
        "outputId": "72cd6da0-6ac5-481d-a0e2-f883c0fe691e"
      },
      "source": [
        "# Base model with MobileNetV2\r\n",
        "IMG_SHAPE = (IMAGE_SIZE, IMAGE_SIZE, 3)\r\n",
        "\r\n",
        "base_model = tf.keras.applications.MobileNetV2(input_shape=IMG_SHAPE,\r\n",
        "                                               include_top=False, \r\n",
        "                                               weights='imagenet')\r\n",
        "base_model.trainable = False"
      ],
      "execution_count": 14,
      "outputs": [
        {
          "output_type": "stream",
          "text": [
            "Downloading data from https://storage.googleapis.com/tensorflow/keras-applications/mobilenet_v2/mobilenet_v2_weights_tf_dim_ordering_tf_kernels_1.0_96_no_top.h5\n",
            "9412608/9406464 [==============================] - 1s 0us/step\n"
          ],
          "name": "stdout"
        }
      ]
    },
    {
      "cell_type": "code",
      "metadata": {
        "id": "BpZjcQeQqkDJ"
      },
      "source": [
        "maxpool_layer = tf.keras.layers.GlobalMaxPooling2D()\r\n",
        "prediction_layer = tf.keras.layers.Dense(1, activation='sigmoid')"
      ],
      "execution_count": 15,
      "outputs": []
    },
    {
      "cell_type": "code",
      "metadata": {
        "colab": {
          "base_uri": "https://localhost:8080/"
        },
        "id": "3unsyKpLqpWS",
        "outputId": "193dad6c-9706-4676-bed2-fe9c1d6aaf83"
      },
      "source": [
        "learning_rate = 0.001\r\n",
        "\r\n",
        "model = tf.keras.Sequential([\r\n",
        "    base_model,\r\n",
        "    maxpool_layer,\r\n",
        "    prediction_layer\r\n",
        "])\r\n",
        "\r\n",
        "model.compile(optimizer=tf.keras.optimizers.Adam(lr=learning_rate),\r\n",
        "             loss='binary_crossentropy',\r\n",
        "             metrics=['accuracy'])\r\n",
        "\r\n",
        "model.summary()"
      ],
      "execution_count": 16,
      "outputs": [
        {
          "output_type": "stream",
          "text": [
            "Model: \"sequential\"\n",
            "_________________________________________________________________\n",
            "Layer (type)                 Output Shape              Param #   \n",
            "=================================================================\n",
            "mobilenetv2_1.00_96 (Functio (None, 3, 3, 1280)        2257984   \n",
            "_________________________________________________________________\n",
            "global_max_pooling2d (Global (None, 1280)              0         \n",
            "_________________________________________________________________\n",
            "dense (Dense)                (None, 1)                 1281      \n",
            "=================================================================\n",
            "Total params: 2,259,265\n",
            "Trainable params: 1,281\n",
            "Non-trainable params: 2,257,984\n",
            "_________________________________________________________________\n"
          ],
          "name": "stdout"
        }
      ]
    },
    {
      "cell_type": "code",
      "metadata": {
        "id": "q5wzU8qzrtRH"
      },
      "source": [
        "num_epochs = 30\r\n",
        "steps_per_epoch = round(num_train)//BATCH_SIZE\r\n",
        "val_steps = 20"
      ],
      "execution_count": 17,
      "outputs": []
    },
    {
      "cell_type": "code",
      "metadata": {
        "colab": {
          "base_uri": "https://localhost:8080/"
        },
        "id": "gNJfrB8qqyrP",
        "outputId": "4d4ef846-dc41-4b1c-f9fd-1983f721df00"
      },
      "source": [
        "history = model.fit(train_data.repeat(),\r\n",
        "                    epochs=num_epochs,\r\n",
        "                    steps_per_epoch = steps_per_epoch,\r\n",
        "                    validation_data=val_data.repeat(), \r\n",
        "                    validation_steps=val_steps)"
      ],
      "execution_count": 18,
      "outputs": [
        {
          "output_type": "stream",
          "text": [
            "Epoch 1/30\n",
            "492/492 [==============================] - 22s 23ms/step - loss: 0.1378 - accuracy: 0.9422 - val_loss: 0.0541 - val_accuracy: 0.9812\n",
            "Epoch 2/30\n",
            "492/492 [==============================] - 14s 28ms/step - loss: 0.0335 - accuracy: 0.9884 - val_loss: 0.0446 - val_accuracy: 0.9812\n",
            "Epoch 3/30\n",
            "492/492 [==============================] - 14s 28ms/step - loss: 0.0273 - accuracy: 0.9917 - val_loss: 0.0415 - val_accuracy: 0.9828\n",
            "Epoch 4/30\n",
            "492/492 [==============================] - 14s 28ms/step - loss: 0.0238 - accuracy: 0.9920 - val_loss: 0.0471 - val_accuracy: 0.9781\n",
            "Epoch 5/30\n",
            "492/492 [==============================] - 14s 28ms/step - loss: 0.0191 - accuracy: 0.9935 - val_loss: 0.0426 - val_accuracy: 0.9844\n",
            "Epoch 6/30\n",
            "492/492 [==============================] - 14s 28ms/step - loss: 0.0166 - accuracy: 0.9952 - val_loss: 0.0470 - val_accuracy: 0.9797\n",
            "Epoch 7/30\n",
            "492/492 [==============================] - 14s 28ms/step - loss: 0.0181 - accuracy: 0.9937 - val_loss: 0.0372 - val_accuracy: 0.9828\n",
            "Epoch 8/30\n",
            "492/492 [==============================] - 14s 28ms/step - loss: 0.0169 - accuracy: 0.9933 - val_loss: 0.0462 - val_accuracy: 0.9844\n",
            "Epoch 9/30\n",
            "492/492 [==============================] - 13s 27ms/step - loss: 0.0153 - accuracy: 0.9952 - val_loss: 0.0444 - val_accuracy: 0.9844\n",
            "Epoch 10/30\n",
            "492/492 [==============================] - 14s 27ms/step - loss: 0.0133 - accuracy: 0.9958 - val_loss: 0.0404 - val_accuracy: 0.9844\n",
            "Epoch 11/30\n",
            "492/492 [==============================] - 14s 28ms/step - loss: 0.0125 - accuracy: 0.9952 - val_loss: 0.0580 - val_accuracy: 0.9797\n",
            "Epoch 12/30\n",
            "492/492 [==============================] - 13s 27ms/step - loss: 0.0093 - accuracy: 0.9970 - val_loss: 0.0490 - val_accuracy: 0.9812\n",
            "Epoch 13/30\n",
            "492/492 [==============================] - 13s 27ms/step - loss: 0.0129 - accuracy: 0.9958 - val_loss: 0.0402 - val_accuracy: 0.9844\n",
            "Epoch 14/30\n",
            "492/492 [==============================] - 14s 28ms/step - loss: 0.0082 - accuracy: 0.9973 - val_loss: 0.0445 - val_accuracy: 0.9812\n",
            "Epoch 15/30\n",
            "492/492 [==============================] - 13s 27ms/step - loss: 0.0086 - accuracy: 0.9968 - val_loss: 0.0462 - val_accuracy: 0.9812\n",
            "Epoch 16/30\n",
            "492/492 [==============================] - 14s 28ms/step - loss: 0.0071 - accuracy: 0.9980 - val_loss: 0.0446 - val_accuracy: 0.9828\n",
            "Epoch 17/30\n",
            "492/492 [==============================] - 13s 27ms/step - loss: 0.0072 - accuracy: 0.9984 - val_loss: 0.0448 - val_accuracy: 0.9859\n",
            "Epoch 18/30\n",
            "492/492 [==============================] - 14s 27ms/step - loss: 0.0057 - accuracy: 0.9989 - val_loss: 0.0439 - val_accuracy: 0.9859\n",
            "Epoch 19/30\n",
            "492/492 [==============================] - 14s 28ms/step - loss: 0.0069 - accuracy: 0.9977 - val_loss: 0.0450 - val_accuracy: 0.9844\n",
            "Epoch 20/30\n",
            "492/492 [==============================] - 13s 27ms/step - loss: 0.0059 - accuracy: 0.9984 - val_loss: 0.0497 - val_accuracy: 0.9875\n",
            "Epoch 21/30\n",
            "492/492 [==============================] - 13s 27ms/step - loss: 0.0064 - accuracy: 0.9982 - val_loss: 0.0495 - val_accuracy: 0.9797\n",
            "Epoch 22/30\n",
            "492/492 [==============================] - 14s 28ms/step - loss: 0.0048 - accuracy: 0.9990 - val_loss: 0.0622 - val_accuracy: 0.9781\n",
            "Epoch 23/30\n",
            "492/492 [==============================] - 14s 27ms/step - loss: 0.0038 - accuracy: 0.9997 - val_loss: 0.0482 - val_accuracy: 0.9844\n",
            "Epoch 24/30\n",
            "492/492 [==============================] - 14s 28ms/step - loss: 0.0056 - accuracy: 0.9987 - val_loss: 0.0541 - val_accuracy: 0.9812\n",
            "Epoch 25/30\n",
            "492/492 [==============================] - 13s 27ms/step - loss: 0.0048 - accuracy: 0.9987 - val_loss: 0.0509 - val_accuracy: 0.9859\n",
            "Epoch 26/30\n",
            "492/492 [==============================] - 13s 27ms/step - loss: 0.0050 - accuracy: 0.9984 - val_loss: 0.0568 - val_accuracy: 0.9828\n",
            "Epoch 27/30\n",
            "492/492 [==============================] - 14s 28ms/step - loss: 0.0037 - accuracy: 0.9995 - val_loss: 0.0552 - val_accuracy: 0.9859\n",
            "Epoch 28/30\n",
            "492/492 [==============================] - 14s 28ms/step - loss: 0.0035 - accuracy: 0.9993 - val_loss: 0.0563 - val_accuracy: 0.9844\n",
            "Epoch 29/30\n",
            "492/492 [==============================] - 14s 28ms/step - loss: 0.0034 - accuracy: 0.9993 - val_loss: 0.0565 - val_accuracy: 0.9828\n",
            "Epoch 30/30\n",
            "492/492 [==============================] - 14s 29ms/step - loss: 0.0029 - accuracy: 0.9997 - val_loss: 0.0566 - val_accuracy: 0.9859\n"
          ],
          "name": "stdout"
        }
      ]
    },
    {
      "cell_type": "code",
      "metadata": {
        "id": "bc0o_eIprjD2"
      },
      "source": [
        "model.save_weights('weights_epoch_30.h5')"
      ],
      "execution_count": 19,
      "outputs": []
    },
    {
      "cell_type": "code",
      "metadata": {
        "colab": {
          "base_uri": "https://localhost:8080/",
          "height": 513
        },
        "id": "ZmQPu8kptRcO",
        "outputId": "711361d4-6aea-466b-a7f4-248510618bf1"
      },
      "source": [
        "acc = history.history['accuracy']\r\n",
        "val_acc = history.history['val_accuracy']\r\n",
        "\r\n",
        "loss = history.history['loss']\r\n",
        "val_loss = history.history['val_loss']\r\n",
        "\r\n",
        "plt.figure(figsize=(8, 8))\r\n",
        "plt.subplot(2, 1, 1)\r\n",
        "plt.plot(acc, label='Training Accuracy')\r\n",
        "plt.plot(val_acc, label='Validation Accuracy')\r\n",
        "plt.legend(loc='lower right')\r\n",
        "plt.ylabel('Accuracy')\r\n",
        "plt.title('Training and Validation Accuracy')\r\n",
        "\r\n",
        "plt.subplot(2, 1, 2)\r\n",
        "plt.plot(loss, label='Training Loss')\r\n",
        "plt.plot(val_loss, label='Validation Loss')\r\n",
        "plt.legend(loc='upper right')\r\n",
        "plt.ylabel('Cross Entropy')\r\n",
        "plt.title('Training and Validation Loss')\r\n",
        "plt.xlabel('epoch')\r\n",
        "plt.show()\r\n",
        "\r\n"
      ],
      "execution_count": 20,
      "outputs": [
        {
          "output_type": "display_data",
          "data": {
            "image/png": "[encoded data removed]",
            "text/plain": [
              "<Figure size 576x576 with 2 Axes>"
            ]
          },
          "metadata": {
            "tags": [],
            "needs_background": "light"
          }
        }
      ]
    },
    {
      "cell_type": "code",
      "metadata": {
        "id": "4v_bQ49NtU8t"
      },
      "source": [
        "base_model.trainable = True\r\n",
        "\r\n",
        "# Refreeze layers until the layers we want to fine-tune\r\n",
        "for layer in base_model.layers[:100]:\r\n",
        "  layer.trainable =  False"
      ],
      "execution_count": 21,
      "outputs": []
    },
    {
      "cell_type": "code",
      "metadata": {
        "colab": {
          "base_uri": "https://localhost:8080/"
        },
        "id": "xu_sBaHktmz2",
        "outputId": "a6f1e788-5bde-414f-a765-083762157284"
      },
      "source": [
        "model.compile(loss='binary_crossentropy',\r\n",
        "              optimizer = tf.keras.optimizers.Adam(lr=learning_rate/10),\r\n",
        "              metrics=['accuracy'])\r\n",
        "model.summary()"
      ],
      "execution_count": 22,
      "outputs": [
        {
          "output_type": "stream",
          "text": [
            "Model: \"sequential\"\n",
            "_________________________________________________________________\n",
            "Layer (type)                 Output Shape              Param #   \n",
            "=================================================================\n",
            "mobilenetv2_1.00_96 (Functio (None, 3, 3, 1280)        2257984   \n",
            "_________________________________________________________________\n",
            "global_max_pooling2d (Global (None, 1280)              0         \n",
            "_________________________________________________________________\n",
            "dense (Dense)                (None, 1)                 1281      \n",
            "=================================================================\n",
            "Total params: 2,259,265\n",
            "Trainable params: 1,862,721\n",
            "Non-trainable params: 396,544\n",
            "_________________________________________________________________\n"
          ],
          "name": "stdout"
        }
      ]
    },
    {
      "cell_type": "code",
      "metadata": {
        "colab": {
          "base_uri": "https://localhost:8080/"
        },
        "id": "FFTSWzTkttoA",
        "outputId": "8c6278c1-498c-4c33-8ec8-47e0f48b543e"
      },
      "source": [
        "\r\n",
        "\r\n",
        "fine_tune_epochs = 30\r\n",
        "total_epochs =  num_epochs + fine_tune_epochs\r\n",
        "\r\n",
        "history_fine = model.fit(train_data.repeat(), \r\n",
        "                         steps_per_epoch = steps_per_epoch,\r\n",
        "                         epochs=total_epochs, \r\n",
        "                         initial_epoch = num_epochs,\r\n",
        "                         validation_data=val_data.repeat(), \r\n",
        "                         validation_steps=val_steps)\r\n",
        "\r\n"
      ],
      "execution_count": 23,
      "outputs": [
        {
          "output_type": "stream",
          "text": [
            "Epoch 31/60\n",
            "492/492 [==============================] - 20s 29ms/step - loss: 0.4006 - accuracy: 0.9504 - val_loss: 2.1171 - val_accuracy: 0.7828\n",
            "Epoch 32/60\n",
            "492/492 [==============================] - 17s 35ms/step - loss: 0.1172 - accuracy: 0.9846 - val_loss: 0.8446 - val_accuracy: 0.9531\n",
            "Epoch 33/60\n",
            "492/492 [==============================] - 17s 35ms/step - loss: 0.0463 - accuracy: 0.9933 - val_loss: 0.2759 - val_accuracy: 0.9734\n",
            "Epoch 34/60\n",
            "492/492 [==============================] - 17s 35ms/step - loss: 0.0531 - accuracy: 0.9926 - val_loss: 0.0975 - val_accuracy: 0.9937\n",
            "Epoch 35/60\n",
            "492/492 [==============================] - 17s 35ms/step - loss: 0.0384 - accuracy: 0.9941 - val_loss: 0.1939 - val_accuracy: 0.9875\n",
            "Epoch 36/60\n",
            "492/492 [==============================] - 17s 35ms/step - loss: 0.0349 - accuracy: 0.9943 - val_loss: 0.1179 - val_accuracy: 0.9859\n",
            "Epoch 37/60\n",
            "492/492 [==============================] - 17s 35ms/step - loss: 0.0204 - accuracy: 0.9962 - val_loss: 0.4196 - val_accuracy: 0.9750\n",
            "Epoch 38/60\n",
            "492/492 [==============================] - 17s 35ms/step - loss: 0.0249 - accuracy: 0.9969 - val_loss: 0.5866 - val_accuracy: 0.9703\n",
            "Epoch 39/60\n",
            "492/492 [==============================] - 17s 35ms/step - loss: 0.0737 - accuracy: 0.9935 - val_loss: 0.1811 - val_accuracy: 0.9906\n",
            "Epoch 40/60\n",
            "492/492 [==============================] - 17s 34ms/step - loss: 0.0177 - accuracy: 0.9971 - val_loss: 0.1813 - val_accuracy: 0.9906\n",
            "Epoch 41/60\n",
            "492/492 [==============================] - 17s 34ms/step - loss: 0.0093 - accuracy: 0.9986 - val_loss: 0.0615 - val_accuracy: 0.9937\n",
            "Epoch 42/60\n",
            "492/492 [==============================] - 17s 35ms/step - loss: 0.0215 - accuracy: 0.9966 - val_loss: 0.0347 - val_accuracy: 0.9937\n",
            "Epoch 43/60\n",
            "492/492 [==============================] - 17s 35ms/step - loss: 0.0095 - accuracy: 0.9978 - val_loss: 0.0222 - val_accuracy: 0.9953\n",
            "Epoch 44/60\n",
            "492/492 [==============================] - 17s 34ms/step - loss: 0.0146 - accuracy: 0.9977 - val_loss: 0.0555 - val_accuracy: 0.9953\n",
            "Epoch 45/60\n",
            "492/492 [==============================] - 17s 35ms/step - loss: 0.0087 - accuracy: 0.9985 - val_loss: 0.1738 - val_accuracy: 0.9844\n",
            "Epoch 46/60\n",
            "492/492 [==============================] - 17s 35ms/step - loss: 0.0415 - accuracy: 0.9945 - val_loss: 0.1460 - val_accuracy: 0.9922\n",
            "Epoch 47/60\n",
            "492/492 [==============================] - 17s 35ms/step - loss: 0.0108 - accuracy: 0.9978 - val_loss: 0.0313 - val_accuracy: 0.9984\n",
            "Epoch 48/60\n",
            "492/492 [==============================] - 17s 35ms/step - loss: 0.0062 - accuracy: 0.9985 - val_loss: 0.0998 - val_accuracy: 0.9922\n",
            "Epoch 49/60\n",
            "492/492 [==============================] - 17s 35ms/step - loss: 0.0036 - accuracy: 0.9992 - val_loss: 0.0178 - val_accuracy: 0.9953\n",
            "Epoch 50/60\n",
            "492/492 [==============================] - 17s 35ms/step - loss: 0.0302 - accuracy: 0.9963 - val_loss: 0.1250 - val_accuracy: 0.9875\n",
            "Epoch 51/60\n",
            "492/492 [==============================] - 17s 35ms/step - loss: 0.0297 - accuracy: 0.9965 - val_loss: 0.0638 - val_accuracy: 0.9922\n",
            "Epoch 52/60\n",
            "492/492 [==============================] - 17s 35ms/step - loss: 0.0033 - accuracy: 0.9994 - val_loss: 0.0426 - val_accuracy: 0.9922\n",
            "Epoch 53/60\n",
            "492/492 [==============================] - 17s 35ms/step - loss: 0.0040 - accuracy: 0.9991 - val_loss: 0.0281 - val_accuracy: 0.9922\n",
            "Epoch 54/60\n",
            "492/492 [==============================] - 17s 35ms/step - loss: 0.0020 - accuracy: 0.9994 - val_loss: 0.0348 - val_accuracy: 0.9906\n",
            "Epoch 55/60\n",
            "492/492 [==============================] - 17s 35ms/step - loss: 8.2283e-04 - accuracy: 0.9998 - val_loss: 0.0255 - val_accuracy: 0.9953\n",
            "Epoch 56/60\n",
            "492/492 [==============================] - 17s 35ms/step - loss: 0.0029 - accuracy: 0.9990 - val_loss: 0.0425 - val_accuracy: 0.9969\n",
            "Epoch 57/60\n",
            "492/492 [==============================] - 17s 35ms/step - loss: 0.0020 - accuracy: 0.9993 - val_loss: 0.0296 - val_accuracy: 0.9984\n",
            "Epoch 58/60\n",
            "492/492 [==============================] - 17s 35ms/step - loss: 0.0017 - accuracy: 0.9998 - val_loss: 0.0339 - val_accuracy: 0.9937\n",
            "Epoch 59/60\n",
            "492/492 [==============================] - 17s 35ms/step - loss: 0.0096 - accuracy: 0.9980 - val_loss: 0.0523 - val_accuracy: 0.9906\n",
            "Epoch 60/60\n",
            "492/492 [==============================] - 17s 35ms/step - loss: 0.0087 - accuracy: 0.9984 - val_loss: 0.0827 - val_accuracy: 0.9828\n"
          ],
          "name": "stdout"
        }
      ]
    },
    {
      "cell_type": "code",
      "metadata": {
        "id": "Pi0km_qctwCa"
      },
      "source": [
        "model.save_weights('weights_epoch_50_finetuned.h5')"
      ],
      "execution_count": 24,
      "outputs": []
    },
    {
      "cell_type": "code",
      "metadata": {
        "id": "bc2MPrs4t0Oq"
      },
      "source": [
        "acc += history_fine.history['accuracy']\r\n",
        "val_acc += history_fine.history['val_accuracy']\r\n",
        "\r\n",
        "loss += history_fine.history['loss']\r\n",
        "val_loss += history_fine.history['val_loss']"
      ],
      "execution_count": 25,
      "outputs": []
    },
    {
      "cell_type": "code",
      "metadata": {
        "colab": {
          "base_uri": "https://localhost:8080/",
          "height": 513
        },
        "id": "zt5f98Mht2Ec",
        "outputId": "a8dafd30-acbf-46d8-9137-4120044b12bb"
      },
      "source": [
        "plt.figure(figsize=(8, 8))\r\n",
        "plt.subplot(2, 1, 1)\r\n",
        "plt.plot(acc, label='Training Accuracy')\r\n",
        "plt.plot(val_acc, label='Validation Accuracy')\r\n",
        "plt.plot([num_epochs-1,num_epochs-1], \r\n",
        "          plt.ylim(), label='Start Fine Tuning')\r\n",
        "plt.legend(loc='lower right')\r\n",
        "plt.title('Training and Validation Accuracy')\r\n",
        "\r\n",
        "plt.subplot(2, 1, 2)\r\n",
        "plt.plot(loss, label='Training Loss')\r\n",
        "plt.plot(val_loss, label='Validation Loss')\r\n",
        "plt.plot([num_epochs-1,num_epochs-1], \r\n",
        "         plt.ylim(), label='Start Fine Tuning')\r\n",
        "plt.legend(loc='upper right')\r\n",
        "plt.title('Training and Validation Loss')\r\n",
        "plt.xlabel('epoch')\r\n",
        "plt.show()"
      ],
      "execution_count": 26,
      "outputs": [
        {
          "output_type": "display_data",
          "data": {
            "image/png": "[encoded data removed]",
            "text/plain": [
              "<Figure size 576x576 with 2 Axes>"
            ]
          },
          "metadata": {
            "tags": [],
            "needs_background": "light"
          }
        }
      ]
    },
    {
      "cell_type": "code",
      "metadata": {
        "id": "sTOGLFKX5Wqz"
      },
      "source": [
        "\r\n",
        "def _parse_fn_test(filename):\r\n",
        "  image_string = tf.io.read_file(filename)\r\n",
        "  image_decoded = tf.image.decode_jpeg(image_string)\r\n",
        "  image_normalized = (tf.cast(image_decoded, tf.float32)/127.5) - 1\r\n",
        "  image_resized = tf.image.resize(image_normalized, (IMAGE_SIZE, IMAGE_SIZE))\r\n",
        "  return image_resized"
      ],
      "execution_count": 27,
      "outputs": []
    },
    {
      "cell_type": "code",
      "metadata": {
        "id": "ndbn1kf7t44O"
      },
      "source": [
        "import os\r\n",
        "test_filenames=['data/test/'+  fname for fname in os.listdir('data/test')]\r\n",
        "# test_data = tf.data.Dataset.from_tensor_slices(tf.constant(test_filenames)._parse_fn_test).batch(BATCH_SIZE)\r\n",
        "test_data = tf.data.Dataset.from_tensor_slices(\r\n",
        "  (tf.constant(test_filenames))\r\n",
        ")\r\n",
        "# print(test_filenames)\r\n",
        "test_data=(test_data.map(_parse_fn_test).batch((BATCH_SIZE)))"
      ],
      "execution_count": 30,
      "outputs": []
    },
    {
      "cell_type": "code",
      "metadata": {
        "id": "i4GPvYqCwnIo"
      },
      "source": [
        "pred=model.predict(test_data)\r\n",
        "# print(test_data.summary())"
      ],
      "execution_count": 31,
      "outputs": []
    },
    {
      "cell_type": "code",
      "metadata": {
        "id": "IMW-_7XvbCI-",
        "colab": {
          "base_uri": "https://localhost:8080/",
          "height": 206
        },
        "outputId": "3884871a-899c-475e-969f-648544d933da"
      },
      "source": [
        "# df=pd.DataFrame(pred,index=)\r\n",
        "df_sample=pd.read_csv('data/sample_submission.csv')\r\n",
        "df_sample.head()"
      ],
      "execution_count": 33,
      "outputs": [
        {
          "output_type": "execute_result",
          "data": {
            "text/html": [
              "<div>\n",
              "<style scoped>\n",
              "    .dataframe tbody tr th:only-of-type {\n",
              "        vertical-align: middle;\n",
              "    }\n",
              "\n",
              "    .dataframe tbody tr th {\n",
              "        vertical-align: top;\n",
              "    }\n",
              "\n",
              "    .dataframe thead th {\n",
              "        text-align: right;\n",
              "    }\n",
              "</style>\n",
              "<table border=\"1\" class=\"dataframe\">\n",
              "  <thead>\n",
              "    <tr style=\"text-align: right;\">\n",
              "      <th></th>\n",
              "      <th>id</th>\n",
              "      <th>has_cactus</th>\n",
              "    </tr>\n",
              "  </thead>\n",
              "  <tbody>\n",
              "    <tr>\n",
              "      <th>0</th>\n",
              "      <td>000940378805c44108d287872b2f04ce.jpg</td>\n",
              "      <td>0.5</td>\n",
              "    </tr>\n",
              "    <tr>\n",
              "      <th>1</th>\n",
              "      <td>0017242f54ececa4512b4d7937d1e21e.jpg</td>\n",
              "      <td>0.5</td>\n",
              "    </tr>\n",
              "    <tr>\n",
              "      <th>2</th>\n",
              "      <td>001ee6d8564003107853118ab87df407.jpg</td>\n",
              "      <td>0.5</td>\n",
              "    </tr>\n",
              "    <tr>\n",
              "      <th>3</th>\n",
              "      <td>002e175c3c1e060769475f52182583d0.jpg</td>\n",
              "      <td>0.5</td>\n",
              "    </tr>\n",
              "    <tr>\n",
              "      <th>4</th>\n",
              "      <td>0036e44a7e8f7218e9bc7bf8137e4943.jpg</td>\n",
              "      <td>0.5</td>\n",
              "    </tr>\n",
              "  </tbody>\n",
              "</table>\n",
              "</div>"
            ],
            "text/plain": [
              "                                     id  has_cactus\n",
              "0  000940378805c44108d287872b2f04ce.jpg         0.5\n",
              "1  0017242f54ececa4512b4d7937d1e21e.jpg         0.5\n",
              "2  001ee6d8564003107853118ab87df407.jpg         0.5\n",
              "3  002e175c3c1e060769475f52182583d0.jpg         0.5\n",
              "4  0036e44a7e8f7218e9bc7bf8137e4943.jpg         0.5"
            ]
          },
          "metadata": {
            "tags": []
          },
          "execution_count": 33
        }
      ]
    },
    {
      "cell_type": "code",
      "metadata": {
        "id": "R31_VmWl1Y6a",
        "colab": {
          "base_uri": "https://localhost:8080/"
        },
        "outputId": "801226ab-dc49-4383-8ace-848e5081e89f"
      },
      "source": [
        "df=pd.DataFrame(test_filenames,columns=['id'])\r\n",
        "df['id']=df['id'].apply(lambda x : x.split('/')[-1])\r\n",
        "df['has_cactus']=pred\r\n",
        "df.to_csv('submission.csv',index=False)\r\n",
        "!kaggle competitions submit aerial-cactus-identification -f submission.csv -m \"My 1st submission\""
      ],
      "execution_count": 47,
      "outputs": [
        {
          "output_type": "stream",
          "text": [
            "Warning: Looks like you're using an outdated API Version, please consider updating (server 1.5.10 / client 1.5.4)\n",
            "100% 173k/173k [00:08<00:00, 21.8kB/s]\n",
            "403 - This competition only allows kernel submissions.\n"
          ],
          "name": "stdout"
        }
      ]
    },
    {
      "cell_type": "code",
      "metadata": {
        "colab": {
          "base_uri": "https://localhost:8080/",
          "height": 17
        },
        "id": "vK6CSTRwUEwT",
        "outputId": "14efd9b5-f9d4-4115-e433-05fc8d60c024"
      },
      "source": [
        "from google.colab import files\r\n",
        "files.download('submission.csv')\r\n"
      ],
      "execution_count": 48,
      "outputs": [
        {
          "output_type": "display_data",
          "data": {
            "application/javascript": [
              "\n",
              "    async function download(id, filename, size) {\n",
              "      if (!google.colab.kernel.accessAllowed) {\n",
              "        return;\n",
              "      }\n",
              "      const div = document.createElement('div');\n",
              "      const label = document.createElement('label');\n",
              "      label.textContent = `Downloading \"${filename}\": `;\n",
              "      div.appendChild(label);\n",
              "      const progress = document.createElement('progress');\n",
              "      progress.max = size;\n",
              "      div.appendChild(progress);\n",
              "      document.body.appendChild(div);\n",
              "\n",
              "      const buffers = [];\n",
              "      let downloaded = 0;\n",
              "\n",
              "      const channel = await google.colab.kernel.comms.open(id);\n",
              "      // Send a message to notify the kernel that we're ready.\n",
              "      channel.send({})\n",
              "\n",
              "      for await (const message of channel.messages) {\n",
              "        // Send a message to notify the kernel that we're ready.\n",
              "        channel.send({})\n",
              "        if (message.buffers) {\n",
              "          for (const buffer of message.buffers) {\n",
              "            buffers.push(buffer);\n",
              "            downloaded += buffer.byteLength;\n",
              "            progress.value = downloaded;\n",
              "          }\n",
              "        }\n",
              "      }\n",
              "      const blob = new Blob(buffers, {type: 'application/binary'});\n",
              "      const a = document.createElement('a');\n",
              "      a.href = window.URL.createObjectURL(blob);\n",
              "      a.download = filename;\n",
              "      div.appendChild(a);\n",
              "      a.click();\n",
              "      div.remove();\n",
              "    }\n",
              "  "
            ],
            "text/plain": [
              "<IPython.core.display.Javascript object>"
            ]
          },
          "metadata": {
            "tags": []
          }
        },
        {
          "output_type": "display_data",
          "data": {
            "application/javascript": [
              "download(\"download_775e8e26-bba5-448c-8efb-df4adc23e65a\", \"submission.csv\", 176902)"
            ],
            "text/plain": [
              "<IPython.core.display.Javascript object>"
            ]
          },
          "metadata": {
            "tags": []
          }
        }
      ]
    },
    {
      "cell_type": "code",
      "metadata": {
        "id": "X3wsgYd9YLmw"
      },
      "source": [
        ""
      ],
      "execution_count": null,
      "outputs": []
    }
  ]
}